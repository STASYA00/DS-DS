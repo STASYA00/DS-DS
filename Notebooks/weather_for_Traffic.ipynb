{
 "cells": [
  {
   "cell_type": "code",
   "execution_count": 1,
   "metadata": {},
   "outputs": [],
   "source": [
    "import pandas as pd\n",
    "import matplotlib.pyplot as plt\n",
    "# import geopandas as gpd\n",
    "import numpy as np\n",
    "import os\n",
    "import scipy as sc\n",
    "import requests\n",
    "import datetime"
   ]
  },
  {
   "cell_type": "code",
   "execution_count": 2,
   "metadata": {},
   "outputs": [],
   "source": [
    "#9pm - 8am"
   ]
  },
  {
   "cell_type": "markdown",
   "metadata": {},
   "source": [
    "does the average speed depend on the speed before?\n",
    "(traffic jam for instance)\n",
    "so we take a specific time period before and check the dependencies\n",
    "we can make a model for one crossing or for all the crossings"
   ]
  },
  {
   "cell_type": "code",
   "execution_count": 178,
   "metadata": {},
   "outputs": [],
   "source": [
    "weather = []"
   ]
  },
  {
   "cell_type": "code",
   "execution_count": 179,
   "metadata": {},
   "outputs": [
    {
     "data": {
      "text/plain": [
       "1000"
      ]
     },
     "execution_count": 179,
     "metadata": {},
     "output_type": "execute_result"
    }
   ],
   "source": [
    "key1 = '0ee33782e549c1b338635079fea0b22d'\n",
    "key2 = 'e42dcd34a7f57dfa00a8c829794c6f85'\n",
    "key3 = 'd3b32860b1895971ed80c02d44ef2e20'\n",
    "key4 = '2eb31bd8490bfdd066cf58bdf0c3b4e7'\n",
    "key5 = '5df2e1bba76a6825bf1bdfdbd910bf0d'\n",
    "key6 = '8d1c96e7a868fd2afd8d21dacd463908'\n",
    "key7 = 'fa7e7183c19ee49901b10c3b48f370ed'\n",
    "key8 = '5e6f428f0e2837dfbfcb105e5b51d2f9'\n",
    "key9 = '6fb6ab74aa79c231c3d32982c6da0786'\n",
    "key10 = '039bdc1da4271f09e0c6a8dfa573665a'\n",
    "key11 = 'fd039c5a7bb0962d5607f6aacb53899a'\n",
    "key15 = '1944bc225e00cbf430807661654be075'\n",
    "key17 = '5084a731025b16d0075ec7b920001f71'\n",
    "key18 = '8fcbdd90d2703e2e4b270a1e0dc8ee1f'\n",
    "\n",
    "for i in range (21991,22991):\n",
    "    a = requests.get('https://api.darksky.net/forecast/' + str(key2) + '/' + str(file_new.LAT[i]) + ',' + str(file_new.LON[i]) + ',' + str(file_new.DATETIME[i].timestamp())[:10] + '?units=si&exclude=daily,flags,offset,hourly')\n",
    "    weather.append(a)\n",
    "    \n",
    "len(weather)"
   ]
  },
  {
   "cell_type": "code",
   "execution_count": 180,
   "metadata": {},
   "outputs": [
    {
     "data": {
      "text/plain": [
       "<Response [200]>"
      ]
     },
     "execution_count": 180,
     "metadata": {},
     "output_type": "execute_result"
    }
   ],
   "source": [
    "weather[210]\n",
    "#11.51"
   ]
  },
  {
   "cell_type": "code",
   "execution_count": 181,
   "metadata": {},
   "outputs": [],
   "source": [
    "temp = []\n",
    "vis = []\n",
    "hum = []\n",
    "wind = []\n",
    "prec = []\n",
    "pressure = []"
   ]
  },
  {
   "cell_type": "code",
   "execution_count": 182,
   "metadata": {},
   "outputs": [],
   "source": [
    "for x in range (0, len(weather)):\n",
    "    temp.append(weather[x].json()['currently']['temperature'])\n",
    "#     vis.append(weather[x].json()['currently']['visibility'])\n",
    "    hum.append(weather[x].json()['currently']['humidity'])\n",
    "    wind.append(weather[x].json()['currently']['windSpeed'])\n",
    "    prec.append(weather[x].json()['currently']['precipType'])\n",
    "    pressure.append(weather[x].json()['currently']['pressure'])"
   ]
  },
  {
   "cell_type": "code",
   "execution_count": 183,
   "metadata": {},
   "outputs": [
    {
     "data": {
      "text/plain": [
       "1000"
      ]
     },
     "execution_count": 183,
     "metadata": {},
     "output_type": "execute_result"
    }
   ],
   "source": [
    "len(hum)"
   ]
  },
  {
   "cell_type": "code",
   "execution_count": 184,
   "metadata": {},
   "outputs": [
    {
     "data": {
      "text/html": [
       "<div>\n",
       "<style scoped>\n",
       "    .dataframe tbody tr th:only-of-type {\n",
       "        vertical-align: middle;\n",
       "    }\n",
       "\n",
       "    .dataframe tbody tr th {\n",
       "        vertical-align: top;\n",
       "    }\n",
       "\n",
       "    .dataframe thead th {\n",
       "        text-align: right;\n",
       "    }\n",
       "</style>\n",
       "<table border=\"1\" class=\"dataframe\">\n",
       "  <thead>\n",
       "    <tr style=\"text-align: right;\">\n",
       "      <th></th>\n",
       "      <th>Temp</th>\n",
       "      <th>Humidity</th>\n",
       "      <th>Wind</th>\n",
       "      <th>Precipitation</th>\n",
       "      <th>Pressure</th>\n",
       "    </tr>\n",
       "  </thead>\n",
       "  <tbody>\n",
       "    <tr>\n",
       "      <th>0</th>\n",
       "      <td>17.66</td>\n",
       "      <td>0.98</td>\n",
       "      <td>0.25</td>\n",
       "      <td>rain</td>\n",
       "      <td>1016.20</td>\n",
       "    </tr>\n",
       "    <tr>\n",
       "      <th>1</th>\n",
       "      <td>17.66</td>\n",
       "      <td>0.97</td>\n",
       "      <td>0.38</td>\n",
       "      <td>rain</td>\n",
       "      <td>1016.14</td>\n",
       "    </tr>\n",
       "    <tr>\n",
       "      <th>2</th>\n",
       "      <td>17.66</td>\n",
       "      <td>0.96</td>\n",
       "      <td>0.50</td>\n",
       "      <td>rain</td>\n",
       "      <td>1016.09</td>\n",
       "    </tr>\n",
       "    <tr>\n",
       "      <th>3</th>\n",
       "      <td>17.66</td>\n",
       "      <td>0.96</td>\n",
       "      <td>0.38</td>\n",
       "      <td>rain</td>\n",
       "      <td>1016.03</td>\n",
       "    </tr>\n",
       "    <tr>\n",
       "      <th>4</th>\n",
       "      <td>17.66</td>\n",
       "      <td>0.96</td>\n",
       "      <td>0.25</td>\n",
       "      <td>rain</td>\n",
       "      <td>1015.98</td>\n",
       "    </tr>\n",
       "  </tbody>\n",
       "</table>\n",
       "</div>"
      ],
      "text/plain": [
       "    Temp  Humidity  Wind Precipitation  Pressure\n",
       "0  17.66      0.98  0.25          rain   1016.20\n",
       "1  17.66      0.97  0.38          rain   1016.14\n",
       "2  17.66      0.96  0.50          rain   1016.09\n",
       "3  17.66      0.96  0.38          rain   1016.03\n",
       "4  17.66      0.96  0.25          rain   1015.98"
      ]
     },
     "execution_count": 184,
     "metadata": {},
     "output_type": "execute_result"
    }
   ],
   "source": [
    "df = pd.DataFrame({'Temp' : temp, 'Humidity' : hum, 'Wind' : wind, 'Precipitation' : prec, 'Pressure' : pressure})\n",
    "df.head()"
   ]
  },
  {
   "cell_type": "code",
   "execution_count": 185,
   "metadata": {},
   "outputs": [],
   "source": [
    "df.to_csv('../traffic/temperature22991.csv')"
   ]
  },
  {
   "cell_type": "code",
   "execution_count": 112,
   "metadata": {},
   "outputs": [],
   "source": [
    "# 19991 - da controllare"
   ]
  },
  {
   "cell_type": "code",
   "execution_count": 207,
   "metadata": {},
   "outputs": [],
   "source": [
    "w1 = pd.read_csv('../traffic/temperature.csv')\n",
    "w2 = pd.read_csv('../traffic/temperature1991.csv')\n",
    "w3 = pd.read_csv('../traffic/temperature2991.csv')\n",
    "w4 = pd.read_csv('../traffic/temperature3991.csv')\n",
    "w5 = pd.read_csv('../traffic/temperature4991.csv')\n",
    "w6 = pd.read_csv('../traffic/temperature5991.csv')\n",
    "w7 = pd.read_csv('../traffic/temperature6991.csv')\n",
    "w8 = pd.read_csv('../traffic/temperature7991.csv')\n",
    "w9 = pd.read_csv('../traffic/temperature8991.csv')\n",
    "w10 = pd.read_csv('../traffic/temperature9991.csv')\n",
    "w11 = pd.read_csv('../traffic/temperature10991.csv')\n",
    "w12 = pd.read_csv('../traffic/temperature11991.csv')\n",
    "w121 = pd.read_csv('../traffic/temperature12991.csv')\n",
    "w13 = pd.read_csv('../traffic/temperature12991-17991.csv')\n",
    "w14 = pd.read_csv('../traffic/temperature18991.csv')\n",
    "w15 = pd.read_csv('../traffic/temperature19991.csv')\n",
    "w16 = pd.read_csv('../traffic/temperature20991.csv')\n",
    "w17 = pd.read_csv('../traffic/temperature21991.csv')\n",
    "w171 = pd.read_csv('../traffic/temperature22991.csv')\n",
    "w172 = pd.read_csv('../traffic/temperature23991.csv')\n",
    "w18 = pd.read_csv('../traffic/temperature23991-25991.csv')\n",
    "w19 = pd.read_csv('../traffic/temperature26991.csv')\n",
    "w20 = pd.read_csv('../traffic/temperaturefinale.csv')\n"
   ]
  },
  {
   "cell_type": "code",
   "execution_count": 208,
   "metadata": {},
   "outputs": [],
   "source": [
    "w = pd.concat([w1, w2,w3,w4,w5,w6,w7,w8,w9,w10,w11,w12,w121,w13,w14,w15,w16,w17,w171,w172,w18,w19,w20], ignore_index=True)"
   ]
  },
  {
   "cell_type": "code",
   "execution_count": 210,
   "metadata": {},
   "outputs": [],
   "source": [
    "w.to_csv('../traffic/T.csv')"
   ]
  },
  {
   "cell_type": "code",
   "execution_count": null,
   "metadata": {},
   "outputs": [],
   "source": []
  }
 ],
 "metadata": {
  "kernelspec": {
   "display_name": "Python 3",
   "language": "python",
   "name": "python3"
  },
  "language_info": {
   "codemirror_mode": {
    "name": "ipython",
    "version": 3
   },
   "file_extension": ".py",
   "mimetype": "text/x-python",
   "name": "python",
   "nbconvert_exporter": "python",
   "pygments_lexer": "ipython3",
   "version": "3.7.1"
  }
 },
 "nbformat": 4,
 "nbformat_minor": 2
}
