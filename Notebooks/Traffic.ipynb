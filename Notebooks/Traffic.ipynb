{
 "cells": [
  {
   "cell_type": "code",
   "execution_count": 1,
   "metadata": {},
   "outputs": [],
   "source": [
    "import pandas as pd\n",
    "import matplotlib.pyplot as plt\n",
    "# import geopandas as gpd\n",
    "import numpy as np\n",
    "import os\n",
    "import scipy as sc\n",
    "import requests\n",
    "import datetime"
   ]
  },
  {
   "cell_type": "code",
   "execution_count": null,
   "metadata": {},
   "outputs": [],
   "source": [
    "#9pm - 8am"
   ]
  },
  {
   "cell_type": "markdown",
   "metadata": {},
   "source": [
    "does the average speed depend on the speed before?\n",
    "(traffic jam for instance)\n",
    "so we take a specific time period before and check the dependencies\n",
    "we can make a model for one crossing or for all the crossings"
   ]
  },
  {
   "cell_type": "code",
   "execution_count": 2,
   "metadata": {},
   "outputs": [
    {
     "data": {
      "text/html": [
       "<div>\n",
       "<style scoped>\n",
       "    .dataframe tbody tr th:only-of-type {\n",
       "        vertical-align: middle;\n",
       "    }\n",
       "\n",
       "    .dataframe tbody tr th {\n",
       "        vertical-align: top;\n",
       "    }\n",
       "\n",
       "    .dataframe thead th {\n",
       "        text-align: right;\n",
       "    }\n",
       "</style>\n",
       "<table border=\"1\" class=\"dataframe\">\n",
       "  <thead>\n",
       "    <tr style=\"text-align: right;\">\n",
       "      <th></th>\n",
       "      <th>ID_SENSOR</th>\n",
       "      <th>DIRECTION</th>\n",
       "      <th>DATETIME</th>\n",
       "      <th>NUM_VEHICLES</th>\n",
       "      <th>SPEED_MEAN</th>\n",
       "      <th>SPEED_SD</th>\n",
       "      <th>EVENT</th>\n",
       "      <th>LON</th>\n",
       "      <th>LAT</th>\n",
       "    </tr>\n",
       "  </thead>\n",
       "  <tbody>\n",
       "    <tr>\n",
       "      <th>0</th>\n",
       "      <td>1</td>\n",
       "      <td>A</td>\n",
       "      <td>2018-09-01 02:00:00</td>\n",
       "      <td>NaN</td>\n",
       "      <td>NaN</td>\n",
       "      <td>NaN</td>\n",
       "      <td>NO_EVENT</td>\n",
       "      <td>12.291754</td>\n",
       "      <td>41.800588</td>\n",
       "    </tr>\n",
       "    <tr>\n",
       "      <th>1</th>\n",
       "      <td>1</td>\n",
       "      <td>A</td>\n",
       "      <td>2018-09-01 02:15:00</td>\n",
       "      <td>NaN</td>\n",
       "      <td>NaN</td>\n",
       "      <td>NaN</td>\n",
       "      <td>NO_EVENT</td>\n",
       "      <td>12.291754</td>\n",
       "      <td>41.800588</td>\n",
       "    </tr>\n",
       "    <tr>\n",
       "      <th>2</th>\n",
       "      <td>1</td>\n",
       "      <td>A</td>\n",
       "      <td>2018-09-01 02:30:00</td>\n",
       "      <td>NaN</td>\n",
       "      <td>NaN</td>\n",
       "      <td>NaN</td>\n",
       "      <td>NO_EVENT</td>\n",
       "      <td>12.291754</td>\n",
       "      <td>41.800588</td>\n",
       "    </tr>\n",
       "    <tr>\n",
       "      <th>3</th>\n",
       "      <td>1</td>\n",
       "      <td>A</td>\n",
       "      <td>2018-09-01 02:45:00</td>\n",
       "      <td>NaN</td>\n",
       "      <td>NaN</td>\n",
       "      <td>NaN</td>\n",
       "      <td>NO_EVENT</td>\n",
       "      <td>12.291754</td>\n",
       "      <td>41.800588</td>\n",
       "    </tr>\n",
       "    <tr>\n",
       "      <th>4</th>\n",
       "      <td>1</td>\n",
       "      <td>A</td>\n",
       "      <td>2018-09-01 03:00:00</td>\n",
       "      <td>NaN</td>\n",
       "      <td>NaN</td>\n",
       "      <td>NaN</td>\n",
       "      <td>NO_EVENT</td>\n",
       "      <td>12.291754</td>\n",
       "      <td>41.800588</td>\n",
       "    </tr>\n",
       "  </tbody>\n",
       "</table>\n",
       "</div>"
      ],
      "text/plain": [
       "   ID_SENSOR DIRECTION            DATETIME  NUM_VEHICLES  SPEED_MEAN  \\\n",
       "0          1         A 2018-09-01 02:00:00           NaN         NaN   \n",
       "1          1         A 2018-09-01 02:15:00           NaN         NaN   \n",
       "2          1         A 2018-09-01 02:30:00           NaN         NaN   \n",
       "3          1         A 2018-09-01 02:45:00           NaN         NaN   \n",
       "4          1         A 2018-09-01 03:00:00           NaN         NaN   \n",
       "\n",
       "   SPEED_SD     EVENT        LON        LAT  \n",
       "0       NaN  NO_EVENT  12.291754  41.800588  \n",
       "1       NaN  NO_EVENT  12.291754  41.800588  \n",
       "2       NaN  NO_EVENT  12.291754  41.800588  \n",
       "3       NaN  NO_EVENT  12.291754  41.800588  \n",
       "4       NaN  NO_EVENT  12.291754  41.800588  "
      ]
     },
     "execution_count": 2,
     "metadata": {},
     "output_type": "execute_result"
    }
   ],
   "source": [
    "file = pd.read_csv('../traffic/Traffic_dataset_v0.1.csv', parse_dates=['DATETIME'], date_parser=lambda x: pd.to_datetime(x, format='%Y-%m-%d %H:%M'))\n",
    "file.head()"
   ]
  },
  {
   "cell_type": "code",
   "execution_count": 3,
   "metadata": {},
   "outputs": [],
   "source": [
    "file_new = file.dropna(subset=['NUM_VEHICLES', 'SPEED_MEAN', 'SPEED_SD'], axis=0, thresh=2)\n",
    "file_new = file_new.reset_index()"
   ]
  },
  {
   "cell_type": "code",
   "execution_count": 74,
   "metadata": {},
   "outputs": [],
   "source": [
    "weather = []"
   ]
  },
  {
   "cell_type": "code",
   "execution_count": 75,
   "metadata": {},
   "outputs": [
    {
     "data": {
      "text/plain": [
       "1000"
      ]
     },
     "execution_count": 75,
     "metadata": {},
     "output_type": "execute_result"
    }
   ],
   "source": [
    "key1 = '0ee33782e549c1b338635079fea0b22d'\n",
    "key2 = 'e42dcd34a7f57dfa00a8c829794c6f85'\n",
    "key3 = 'd3b32860b1895971ed80c02d44ef2e20'\n",
    "key4 = '2eb31bd8490bfdd066cf58bdf0c3b4e7'\n",
    "key5 = '5df2e1bba76a6825bf1bdfdbd910bf0d'\n",
    "key6 = '8d1c96e7a868fd2afd8d21dacd463908'\n",
    "key7 = 'fa7e7183c19ee49901b10c3b48f370ed'\n",
    "key8 = '5e6f428f0e2837dfbfcb105e5b51d2f9'\n",
    "key9 = '6fb6ab74aa79c231c3d32982c6da0786'\n",
    "key10 = '039bdc1da4271f09e0c6a8dfa573665a'\n",
    "key11 = 'fd039c5a7bb0962d5607f6aacb53899a'\n",
    "\n",
    "for i in range (11991,12991):\n",
    "    a = requests.get('https://api.darksky.net/forecast/' + str(key11) + '/' + str(file_new.LAT[i]) + ',' + str(file_new.LON[i]) + ',' + str(file_new.DATETIME[i].timestamp())[:10] + '?units=si&exclude=daily,flags,offset,hourly')\n",
    "    weather.append(a)\n",
    "    \n",
    "len(weather)"
   ]
  },
  {
   "cell_type": "code",
   "execution_count": 76,
   "metadata": {},
   "outputs": [
    {
     "data": {
      "text/plain": [
       "<Response [200]>"
      ]
     },
     "execution_count": 76,
     "metadata": {},
     "output_type": "execute_result"
    }
   ],
   "source": [
    "weather[80]\n",
    "#11.51"
   ]
  },
  {
   "cell_type": "code",
   "execution_count": 150,
   "metadata": {},
   "outputs": [
    {
     "data": {
      "text/html": [
       "<div>\n",
       "<style scoped>\n",
       "    .dataframe tbody tr th:only-of-type {\n",
       "        vertical-align: middle;\n",
       "    }\n",
       "\n",
       "    .dataframe tbody tr th {\n",
       "        vertical-align: top;\n",
       "    }\n",
       "\n",
       "    .dataframe thead th {\n",
       "        text-align: right;\n",
       "    }\n",
       "</style>\n",
       "<table border=\"1\" class=\"dataframe\">\n",
       "  <thead>\n",
       "    <tr style=\"text-align: right;\">\n",
       "      <th></th>\n",
       "      <th>index</th>\n",
       "      <th>ID_SENSOR</th>\n",
       "      <th>DIRECTION</th>\n",
       "      <th>DATETIME</th>\n",
       "      <th>NUM_VEHICLES</th>\n",
       "      <th>SPEED_MEAN</th>\n",
       "      <th>SPEED_SD</th>\n",
       "      <th>EVENT</th>\n",
       "      <th>LON</th>\n",
       "      <th>LAT</th>\n",
       "    </tr>\n",
       "  </thead>\n",
       "  <tbody>\n",
       "    <tr>\n",
       "      <th>2991</th>\n",
       "      <td>5817</td>\n",
       "      <td>1</td>\n",
       "      <td>A</td>\n",
       "      <td>2018-10-31 15:15:00</td>\n",
       "      <td>571.0</td>\n",
       "      <td>100.4</td>\n",
       "      <td>18.3</td>\n",
       "      <td>NO_EVENT</td>\n",
       "      <td>12.291754</td>\n",
       "      <td>41.800588</td>\n",
       "    </tr>\n",
       "  </tbody>\n",
       "</table>\n",
       "</div>"
      ],
      "text/plain": [
       "      index  ID_SENSOR DIRECTION            DATETIME  NUM_VEHICLES  \\\n",
       "2991   5817          1         A 2018-10-31 15:15:00         571.0   \n",
       "\n",
       "      SPEED_MEAN  SPEED_SD     EVENT        LON        LAT  \n",
       "2991       100.4      18.3  NO_EVENT  12.291754  41.800588  "
      ]
     },
     "execution_count": 150,
     "metadata": {},
     "output_type": "execute_result"
    }
   ],
   "source": [
    "file_new[2991:2992]"
   ]
  },
  {
   "cell_type": "code",
   "execution_count": 146,
   "metadata": {},
   "outputs": [
    {
     "data": {
      "text/plain": [
       "{'time': 1540998900,\n",
       " 'summary': 'Partly Cloudy',\n",
       " 'icon': 'partly-cloudy-day',\n",
       " 'precipType': 'rain',\n",
       " 'temperature': 18.79,\n",
       " 'apparentTemperature': 18.79,\n",
       " 'dewPoint': 11.07,\n",
       " 'humidity': 0.61,\n",
       " 'pressure': 1015.38,\n",
       " 'pressureError': 49.61,\n",
       " 'windSpeed': 5.21,\n",
       " 'windGust': 13.9,\n",
       " 'windBearing': 131,\n",
       " 'cloudCover': 0.29,\n",
       " 'uvIndex': 0,\n",
       " 'visibility': 10.01}"
      ]
     },
     "execution_count": 146,
     "metadata": {},
     "output_type": "execute_result"
    }
   ],
   "source": [
    "weather[0].json()['currently']"
   ]
  },
  {
   "cell_type": "code",
   "execution_count": 77,
   "metadata": {},
   "outputs": [],
   "source": [
    "temp = []\n",
    "vis = []\n",
    "hum = []\n",
    "wind = []\n",
    "prec = []\n",
    "pressure = []"
   ]
  },
  {
   "cell_type": "code",
   "execution_count": 114,
   "metadata": {},
   "outputs": [
    {
     "data": {
      "text/plain": [
       "22.48"
      ]
     },
     "execution_count": 114,
     "metadata": {},
     "output_type": "execute_result"
    }
   ],
   "source": [
    "weather[991].json()['currently']['temperature']"
   ]
  },
  {
   "cell_type": "code",
   "execution_count": 117,
   "metadata": {},
   "outputs": [
    {
     "data": {
      "text/plain": [
       "10.01"
      ]
     },
     "execution_count": 117,
     "metadata": {},
     "output_type": "execute_result"
    }
   ],
   "source": [
    "weather[1].json()['currently']['visibility']"
   ]
  },
  {
   "cell_type": "code",
   "execution_count": 78,
   "metadata": {},
   "outputs": [],
   "source": [
    "for x in range (0, len(weather)):\n",
    "    temp.append(weather[x].json()['currently']['temperature'])\n",
    "#     vis.append(weather[x].json()['currently']['visibility'])\n",
    "    hum.append(weather[x].json()['currently']['humidity'])\n",
    "    wind.append(weather[x].json()['currently']['windSpeed'])\n",
    "    prec.append(weather[x].json()['currently']['precipType'])\n",
    "    pressure.append(weather[x].json()['currently']['pressure'])"
   ]
  },
  {
   "cell_type": "code",
   "execution_count": 79,
   "metadata": {},
   "outputs": [
    {
     "data": {
      "text/plain": [
       "1000"
      ]
     },
     "execution_count": 79,
     "metadata": {},
     "output_type": "execute_result"
    }
   ],
   "source": [
    "len(hum)"
   ]
  },
  {
   "cell_type": "code",
   "execution_count": 80,
   "metadata": {},
   "outputs": [
    {
     "data": {
      "text/html": [
       "<div>\n",
       "<style scoped>\n",
       "    .dataframe tbody tr th:only-of-type {\n",
       "        vertical-align: middle;\n",
       "    }\n",
       "\n",
       "    .dataframe tbody tr th {\n",
       "        vertical-align: top;\n",
       "    }\n",
       "\n",
       "    .dataframe thead th {\n",
       "        text-align: right;\n",
       "    }\n",
       "</style>\n",
       "<table border=\"1\" class=\"dataframe\">\n",
       "  <thead>\n",
       "    <tr style=\"text-align: right;\">\n",
       "      <th></th>\n",
       "      <th>Temp</th>\n",
       "      <th>Humidity</th>\n",
       "      <th>Wind</th>\n",
       "      <th>Precipitation</th>\n",
       "      <th>Pressure</th>\n",
       "    </tr>\n",
       "  </thead>\n",
       "  <tbody>\n",
       "    <tr>\n",
       "      <th>0</th>\n",
       "      <td>12.01</td>\n",
       "      <td>0.82</td>\n",
       "      <td>2.81</td>\n",
       "      <td>rain</td>\n",
       "      <td>1016.02</td>\n",
       "    </tr>\n",
       "    <tr>\n",
       "      <th>1</th>\n",
       "      <td>11.99</td>\n",
       "      <td>0.80</td>\n",
       "      <td>2.75</td>\n",
       "      <td>rain</td>\n",
       "      <td>1016.06</td>\n",
       "    </tr>\n",
       "    <tr>\n",
       "      <th>2</th>\n",
       "      <td>11.99</td>\n",
       "      <td>0.78</td>\n",
       "      <td>2.75</td>\n",
       "      <td>rain</td>\n",
       "      <td>1016.09</td>\n",
       "    </tr>\n",
       "    <tr>\n",
       "      <th>3</th>\n",
       "      <td>12.23</td>\n",
       "      <td>0.79</td>\n",
       "      <td>2.77</td>\n",
       "      <td>rain</td>\n",
       "      <td>1016.14</td>\n",
       "    </tr>\n",
       "    <tr>\n",
       "      <th>4</th>\n",
       "      <td>12.47</td>\n",
       "      <td>0.80</td>\n",
       "      <td>2.80</td>\n",
       "      <td>rain</td>\n",
       "      <td>1016.18</td>\n",
       "    </tr>\n",
       "  </tbody>\n",
       "</table>\n",
       "</div>"
      ],
      "text/plain": [
       "    Temp  Humidity  Wind Precipitation  Pressure\n",
       "0  12.01      0.82  2.81          rain   1016.02\n",
       "1  11.99      0.80  2.75          rain   1016.06\n",
       "2  11.99      0.78  2.75          rain   1016.09\n",
       "3  12.23      0.79  2.77          rain   1016.14\n",
       "4  12.47      0.80  2.80          rain   1016.18"
      ]
     },
     "execution_count": 80,
     "metadata": {},
     "output_type": "execute_result"
    }
   ],
   "source": [
    "df = pd.DataFrame({'Temp' : temp, 'Humidity' : hum, 'Wind' : wind, 'Precipitation' : prec, 'Pressure' : pressure})\n",
    "df.head()"
   ]
  },
  {
   "cell_type": "code",
   "execution_count": 81,
   "metadata": {},
   "outputs": [],
   "source": [
    "df.to_csv('../traffic/temperature12991.csv')"
   ]
  },
  {
   "cell_type": "code",
   "execution_count": 61,
   "metadata": {},
   "outputs": [
    {
     "data": {
      "text/plain": [
       "{'latitude': 41.800588,\n",
       " 'longitude': 12.291754,\n",
       " 'timezone': 'Europe/Rome',\n",
       " 'currently': {'time': 1535767200,\n",
       "  'summary': 'Partly Cloudy',\n",
       "  'icon': 'partly-cloudy-night',\n",
       "  'precipType': 'rain',\n",
       "  'temperature': 21.24,\n",
       "  'apparentTemperature': 21.81,\n",
       "  'dewPoint': 19.79,\n",
       "  'humidity': 0.91,\n",
       "  'pressure': 1014.67,\n",
       "  'pressureError': 14.23,\n",
       "  'windSpeed': 3.08,\n",
       "  'windBearing': 86,\n",
       "  'cloudCover': 0.53,\n",
       "  'uvIndex': 0,\n",
       "  'visibility': 8.51},\n",
       " 'offset': 2}"
      ]
     },
     "execution_count": 61,
     "metadata": {},
     "output_type": "execute_result"
    }
   ],
   "source": [
    "a.json()"
   ]
  },
  {
   "cell_type": "code",
   "execution_count": null,
   "metadata": {},
   "outputs": [],
   "source": []
  }
 ],
 "metadata": {
  "kernelspec": {
   "display_name": "Python 3",
   "language": "python",
   "name": "python3"
  },
  "language_info": {
   "codemirror_mode": {
    "name": "ipython",
    "version": 3
   },
   "file_extension": ".py",
   "mimetype": "text/x-python",
   "name": "python",
   "nbconvert_exporter": "python",
   "pygments_lexer": "ipython3",
   "version": "3.6.5"
  }
 },
 "nbformat": 4,
 "nbformat_minor": 2
}
