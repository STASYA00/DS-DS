{
 "cells": [
  {
   "cell_type": "code",
   "execution_count": 136,
   "metadata": {},
   "outputs": [],
   "source": [
    "import pandas as pd\n",
    "import matplotlib.pyplot as plt\n",
    "# import geopandas as gpd\n",
    "import numpy as np\n",
    "import os\n",
    "import scipy as sc\n",
    "import requests\n",
    "import datetime"
   ]
  },
  {
   "cell_type": "code",
   "execution_count": 137,
   "metadata": {},
   "outputs": [
    {
     "data": {
      "text/html": [
       "<div>\n",
       "<style scoped>\n",
       "    .dataframe tbody tr th:only-of-type {\n",
       "        vertical-align: middle;\n",
       "    }\n",
       "\n",
       "    .dataframe tbody tr th {\n",
       "        vertical-align: top;\n",
       "    }\n",
       "\n",
       "    .dataframe thead th {\n",
       "        text-align: right;\n",
       "    }\n",
       "</style>\n",
       "<table border=\"1\" class=\"dataframe\">\n",
       "  <thead>\n",
       "    <tr style=\"text-align: right;\">\n",
       "      <th></th>\n",
       "      <th>ID_SENSOR</th>\n",
       "      <th>DIRECTION</th>\n",
       "      <th>DATETIME</th>\n",
       "      <th>NUM_VEHICLES</th>\n",
       "      <th>SPEED_MEAN</th>\n",
       "      <th>SPEED_SD</th>\n",
       "      <th>EVENT</th>\n",
       "      <th>LON</th>\n",
       "      <th>LAT</th>\n",
       "    </tr>\n",
       "  </thead>\n",
       "  <tbody>\n",
       "    <tr>\n",
       "      <th>0</th>\n",
       "      <td>1</td>\n",
       "      <td>A</td>\n",
       "      <td>2018-09-01 02:00:00</td>\n",
       "      <td>NaN</td>\n",
       "      <td>NaN</td>\n",
       "      <td>NaN</td>\n",
       "      <td>NO_EVENT</td>\n",
       "      <td>12.291754</td>\n",
       "      <td>41.800588</td>\n",
       "    </tr>\n",
       "    <tr>\n",
       "      <th>1</th>\n",
       "      <td>1</td>\n",
       "      <td>A</td>\n",
       "      <td>2018-09-01 02:15:00</td>\n",
       "      <td>NaN</td>\n",
       "      <td>NaN</td>\n",
       "      <td>NaN</td>\n",
       "      <td>NO_EVENT</td>\n",
       "      <td>12.291754</td>\n",
       "      <td>41.800588</td>\n",
       "    </tr>\n",
       "    <tr>\n",
       "      <th>2</th>\n",
       "      <td>1</td>\n",
       "      <td>A</td>\n",
       "      <td>2018-09-01 02:30:00</td>\n",
       "      <td>NaN</td>\n",
       "      <td>NaN</td>\n",
       "      <td>NaN</td>\n",
       "      <td>NO_EVENT</td>\n",
       "      <td>12.291754</td>\n",
       "      <td>41.800588</td>\n",
       "    </tr>\n",
       "    <tr>\n",
       "      <th>3</th>\n",
       "      <td>1</td>\n",
       "      <td>A</td>\n",
       "      <td>2018-09-01 02:45:00</td>\n",
       "      <td>NaN</td>\n",
       "      <td>NaN</td>\n",
       "      <td>NaN</td>\n",
       "      <td>NO_EVENT</td>\n",
       "      <td>12.291754</td>\n",
       "      <td>41.800588</td>\n",
       "    </tr>\n",
       "    <tr>\n",
       "      <th>4</th>\n",
       "      <td>1</td>\n",
       "      <td>A</td>\n",
       "      <td>2018-09-01 03:00:00</td>\n",
       "      <td>NaN</td>\n",
       "      <td>NaN</td>\n",
       "      <td>NaN</td>\n",
       "      <td>NO_EVENT</td>\n",
       "      <td>12.291754</td>\n",
       "      <td>41.800588</td>\n",
       "    </tr>\n",
       "  </tbody>\n",
       "</table>\n",
       "</div>"
      ],
      "text/plain": [
       "   ID_SENSOR DIRECTION            DATETIME  NUM_VEHICLES  SPEED_MEAN  \\\n",
       "0          1         A 2018-09-01 02:00:00           NaN         NaN   \n",
       "1          1         A 2018-09-01 02:15:00           NaN         NaN   \n",
       "2          1         A 2018-09-01 02:30:00           NaN         NaN   \n",
       "3          1         A 2018-09-01 02:45:00           NaN         NaN   \n",
       "4          1         A 2018-09-01 03:00:00           NaN         NaN   \n",
       "\n",
       "   SPEED_SD     EVENT        LON        LAT  \n",
       "0       NaN  NO_EVENT  12.291754  41.800588  \n",
       "1       NaN  NO_EVENT  12.291754  41.800588  \n",
       "2       NaN  NO_EVENT  12.291754  41.800588  \n",
       "3       NaN  NO_EVENT  12.291754  41.800588  \n",
       "4       NaN  NO_EVENT  12.291754  41.800588  "
      ]
     },
     "execution_count": 137,
     "metadata": {},
     "output_type": "execute_result"
    }
   ],
   "source": [
    "file = pd.read_csv('../traffic/Traffic_dataset_v0.1.csv', parse_dates=['DATETIME'], date_parser=lambda x: pd.to_datetime(x, format='%Y-%m-%d %H:%M'))\n",
    "file.head()"
   ]
  },
  {
   "cell_type": "code",
   "execution_count": 139,
   "metadata": {},
   "outputs": [],
   "source": [
    "file_new = file.dropna(subset=['NUM_VEHICLES', 'SPEED_MEAN', 'SPEED_SD'], axis=0, thresh=2)\n",
    "file_new = file_new.reset_index()"
   ]
  },
  {
   "cell_type": "code",
   "execution_count": 159,
   "metadata": {},
   "outputs": [],
   "source": [
    "weather = []"
   ]
  },
  {
   "cell_type": "code",
   "execution_count": 160,
   "metadata": {},
   "outputs": [
    {
     "data": {
      "text/plain": [
       "1000"
      ]
     },
     "execution_count": 160,
     "metadata": {},
     "output_type": "execute_result"
    }
   ],
   "source": [
    "key1 = '0ee33782e549c1b338635079fea0b22d'\n",
    "key2 = 'e42dcd34a7f57dfa00a8c829794c6f85'\n",
    "\n",
    "for i in range (3991,4991):\n",
    "    a = requests.get('https://api.darksky.net/forecast/' + str(key1) + '/' + str(file_new.LAT[i]) + ',' + str(file_new.LON[i]) + ',' + str(file_new.DATETIME[i].timestamp())[:10] + '?units=si&exclude=daily,flags,offset,hourly')\n",
    "    weather.append(a)\n",
    "    \n",
    "len(weather)"
   ]
  },
  {
   "cell_type": "code",
   "execution_count": 163,
   "metadata": {},
   "outputs": [
    {
     "data": {
      "text/plain": [
       "<Response [403]>"
      ]
     },
     "execution_count": 163,
     "metadata": {},
     "output_type": "execute_result"
    }
   ],
   "source": [
    "weather[80]"
   ]
  },
  {
   "cell_type": "code",
   "execution_count": 150,
   "metadata": {},
   "outputs": [
    {
     "data": {
      "text/html": [
       "<div>\n",
       "<style scoped>\n",
       "    .dataframe tbody tr th:only-of-type {\n",
       "        vertical-align: middle;\n",
       "    }\n",
       "\n",
       "    .dataframe tbody tr th {\n",
       "        vertical-align: top;\n",
       "    }\n",
       "\n",
       "    .dataframe thead th {\n",
       "        text-align: right;\n",
       "    }\n",
       "</style>\n",
       "<table border=\"1\" class=\"dataframe\">\n",
       "  <thead>\n",
       "    <tr style=\"text-align: right;\">\n",
       "      <th></th>\n",
       "      <th>index</th>\n",
       "      <th>ID_SENSOR</th>\n",
       "      <th>DIRECTION</th>\n",
       "      <th>DATETIME</th>\n",
       "      <th>NUM_VEHICLES</th>\n",
       "      <th>SPEED_MEAN</th>\n",
       "      <th>SPEED_SD</th>\n",
       "      <th>EVENT</th>\n",
       "      <th>LON</th>\n",
       "      <th>LAT</th>\n",
       "    </tr>\n",
       "  </thead>\n",
       "  <tbody>\n",
       "    <tr>\n",
       "      <th>2991</th>\n",
       "      <td>5817</td>\n",
       "      <td>1</td>\n",
       "      <td>A</td>\n",
       "      <td>2018-10-31 15:15:00</td>\n",
       "      <td>571.0</td>\n",
       "      <td>100.4</td>\n",
       "      <td>18.3</td>\n",
       "      <td>NO_EVENT</td>\n",
       "      <td>12.291754</td>\n",
       "      <td>41.800588</td>\n",
       "    </tr>\n",
       "  </tbody>\n",
       "</table>\n",
       "</div>"
      ],
      "text/plain": [
       "      index  ID_SENSOR DIRECTION            DATETIME  NUM_VEHICLES  \\\n",
       "2991   5817          1         A 2018-10-31 15:15:00         571.0   \n",
       "\n",
       "      SPEED_MEAN  SPEED_SD     EVENT        LON        LAT  \n",
       "2991       100.4      18.3  NO_EVENT  12.291754  41.800588  "
      ]
     },
     "execution_count": 150,
     "metadata": {},
     "output_type": "execute_result"
    }
   ],
   "source": [
    "file_new[2991:2992]"
   ]
  },
  {
   "cell_type": "code",
   "execution_count": 146,
   "metadata": {},
   "outputs": [
    {
     "data": {
      "text/plain": [
       "{'time': 1540998900,\n",
       " 'summary': 'Partly Cloudy',\n",
       " 'icon': 'partly-cloudy-day',\n",
       " 'precipType': 'rain',\n",
       " 'temperature': 18.79,\n",
       " 'apparentTemperature': 18.79,\n",
       " 'dewPoint': 11.07,\n",
       " 'humidity': 0.61,\n",
       " 'pressure': 1015.38,\n",
       " 'pressureError': 49.61,\n",
       " 'windSpeed': 5.21,\n",
       " 'windGust': 13.9,\n",
       " 'windBearing': 131,\n",
       " 'cloudCover': 0.29,\n",
       " 'uvIndex': 0,\n",
       " 'visibility': 10.01}"
      ]
     },
     "execution_count": 146,
     "metadata": {},
     "output_type": "execute_result"
    }
   ],
   "source": [
    "weather[0].json()['currently']"
   ]
  },
  {
   "cell_type": "code",
   "execution_count": 151,
   "metadata": {},
   "outputs": [],
   "source": [
    "temp = []\n",
    "vis = []\n",
    "hum = []\n",
    "wind = []\n",
    "prec = []\n",
    "pressure = []"
   ]
  },
  {
   "cell_type": "code",
   "execution_count": 114,
   "metadata": {},
   "outputs": [
    {
     "data": {
      "text/plain": [
       "22.48"
      ]
     },
     "execution_count": 114,
     "metadata": {},
     "output_type": "execute_result"
    }
   ],
   "source": [
    "weather[991].json()['currently']['temperature']"
   ]
  },
  {
   "cell_type": "code",
   "execution_count": 117,
   "metadata": {},
   "outputs": [
    {
     "data": {
      "text/plain": [
       "10.01"
      ]
     },
     "execution_count": 117,
     "metadata": {},
     "output_type": "execute_result"
    }
   ],
   "source": [
    "weather[1].json()['currently']['visibility']"
   ]
  },
  {
   "cell_type": "code",
   "execution_count": 152,
   "metadata": {},
   "outputs": [],
   "source": [
    "for x in range (0, len(weather)):\n",
    "    temp.append(weather[x].json()['currently']['temperature'])\n",
    "#     vis.append(weather[x].json()['currently']['visibility'])\n",
    "    hum.append(weather[x].json()['currently']['humidity'])\n",
    "    wind.append(weather[x].json()['currently']['windSpeed'])\n",
    "    prec.append(weather[x].json()['currently']['precipType'])\n",
    "    pressure.append(weather[x].json()['currently']['pressure'])"
   ]
  },
  {
   "cell_type": "code",
   "execution_count": 153,
   "metadata": {},
   "outputs": [
    {
     "data": {
      "text/plain": [
       "1000"
      ]
     },
     "execution_count": 153,
     "metadata": {},
     "output_type": "execute_result"
    }
   ],
   "source": [
    "len(hum)"
   ]
  },
  {
   "cell_type": "code",
   "execution_count": 154,
   "metadata": {},
   "outputs": [
    {
     "data": {
      "text/html": [
       "<div>\n",
       "<style scoped>\n",
       "    .dataframe tbody tr th:only-of-type {\n",
       "        vertical-align: middle;\n",
       "    }\n",
       "\n",
       "    .dataframe tbody tr th {\n",
       "        vertical-align: top;\n",
       "    }\n",
       "\n",
       "    .dataframe thead th {\n",
       "        text-align: right;\n",
       "    }\n",
       "</style>\n",
       "<table border=\"1\" class=\"dataframe\">\n",
       "  <thead>\n",
       "    <tr style=\"text-align: right;\">\n",
       "      <th></th>\n",
       "      <th>Temp</th>\n",
       "      <th>Humidity</th>\n",
       "      <th>Wind</th>\n",
       "      <th>Precipitation</th>\n",
       "      <th>Pressure</th>\n",
       "    </tr>\n",
       "  </thead>\n",
       "  <tbody>\n",
       "    <tr>\n",
       "      <th>0</th>\n",
       "      <td>18.79</td>\n",
       "      <td>0.61</td>\n",
       "      <td>5.21</td>\n",
       "      <td>rain</td>\n",
       "      <td>1015.38</td>\n",
       "    </tr>\n",
       "    <tr>\n",
       "      <th>1</th>\n",
       "      <td>18.51</td>\n",
       "      <td>0.62</td>\n",
       "      <td>4.46</td>\n",
       "      <td>rain</td>\n",
       "      <td>1015.38</td>\n",
       "    </tr>\n",
       "    <tr>\n",
       "      <th>2</th>\n",
       "      <td>18.22</td>\n",
       "      <td>0.63</td>\n",
       "      <td>3.76</td>\n",
       "      <td>rain</td>\n",
       "      <td>1015.37</td>\n",
       "    </tr>\n",
       "    <tr>\n",
       "      <th>3</th>\n",
       "      <td>17.94</td>\n",
       "      <td>0.64</td>\n",
       "      <td>3.14</td>\n",
       "      <td>rain</td>\n",
       "      <td>1015.36</td>\n",
       "    </tr>\n",
       "    <tr>\n",
       "      <th>4</th>\n",
       "      <td>17.92</td>\n",
       "      <td>0.63</td>\n",
       "      <td>2.62</td>\n",
       "      <td>rain</td>\n",
       "      <td>1015.39</td>\n",
       "    </tr>\n",
       "  </tbody>\n",
       "</table>\n",
       "</div>"
      ],
      "text/plain": [
       "    Temp  Humidity  Wind Precipitation  Pressure\n",
       "0  18.79      0.61  5.21          rain   1015.38\n",
       "1  18.51      0.62  4.46          rain   1015.38\n",
       "2  18.22      0.63  3.76          rain   1015.37\n",
       "3  17.94      0.64  3.14          rain   1015.36\n",
       "4  17.92      0.63  2.62          rain   1015.39"
      ]
     },
     "execution_count": 154,
     "metadata": {},
     "output_type": "execute_result"
    }
   ],
   "source": [
    "df = pd.DataFrame({'Temp' : temp, 'Humidity' : hum, 'Wind' : wind, 'Precipitation' : prec, 'Pressure' : pressure})\n",
    "df.head()"
   ]
  },
  {
   "cell_type": "code",
   "execution_count": 155,
   "metadata": {},
   "outputs": [],
   "source": [
    "df.to_csv('../traffic/temperature3991.csv')"
   ]
  },
  {
   "cell_type": "code",
   "execution_count": 61,
   "metadata": {},
   "outputs": [
    {
     "data": {
      "text/plain": [
       "{'latitude': 41.800588,\n",
       " 'longitude': 12.291754,\n",
       " 'timezone': 'Europe/Rome',\n",
       " 'currently': {'time': 1535767200,\n",
       "  'summary': 'Partly Cloudy',\n",
       "  'icon': 'partly-cloudy-night',\n",
       "  'precipType': 'rain',\n",
       "  'temperature': 21.24,\n",
       "  'apparentTemperature': 21.81,\n",
       "  'dewPoint': 19.79,\n",
       "  'humidity': 0.91,\n",
       "  'pressure': 1014.67,\n",
       "  'pressureError': 14.23,\n",
       "  'windSpeed': 3.08,\n",
       "  'windBearing': 86,\n",
       "  'cloudCover': 0.53,\n",
       "  'uvIndex': 0,\n",
       "  'visibility': 8.51},\n",
       " 'offset': 2}"
      ]
     },
     "execution_count": 61,
     "metadata": {},
     "output_type": "execute_result"
    }
   ],
   "source": [
    "a.json()"
   ]
  },
  {
   "cell_type": "code",
   "execution_count": null,
   "metadata": {},
   "outputs": [],
   "source": []
  }
 ],
 "metadata": {
  "kernelspec": {
   "display_name": "Python 3",
   "language": "python",
   "name": "python3"
  },
  "language_info": {
   "codemirror_mode": {
    "name": "ipython",
    "version": 3
   },
   "file_extension": ".py",
   "mimetype": "text/x-python",
   "name": "python",
   "nbconvert_exporter": "python",
   "pygments_lexer": "ipython3",
   "version": "3.7.1"
  }
 },
 "nbformat": 4,
 "nbformat_minor": 2
}
