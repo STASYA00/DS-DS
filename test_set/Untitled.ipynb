{
 "cells": [
  {
   "cell_type": "code",
   "execution_count": 1,
   "metadata": {},
   "outputs": [],
   "source": [
    "import pandas as pd\n",
    "import matplotlib.pyplot as plt\n",
    "# import geopandas as gpd\n",
    "import numpy as np\n",
    "import os\n",
    "import scipy as sc\n",
    "import requests\n",
    "import datetime"
   ]
  },
  {
   "cell_type": "code",
   "execution_count": 2,
   "metadata": {},
   "outputs": [
    {
     "data": {
      "text/html": [
       "<div>\n",
       "<style scoped>\n",
       "    .dataframe tbody tr th:only-of-type {\n",
       "        vertical-align: middle;\n",
       "    }\n",
       "\n",
       "    .dataframe tbody tr th {\n",
       "        vertical-align: top;\n",
       "    }\n",
       "\n",
       "    .dataframe thead th {\n",
       "        text-align: right;\n",
       "    }\n",
       "</style>\n",
       "<table border=\"1\" class=\"dataframe\">\n",
       "  <thead>\n",
       "    <tr style=\"text-align: right;\">\n",
       "      <th></th>\n",
       "      <th>ID_SENSOR</th>\n",
       "      <th>DIRECTION</th>\n",
       "      <th>DATETIME</th>\n",
       "      <th>NUM_VEHICLES</th>\n",
       "      <th>EVENT</th>\n",
       "    </tr>\n",
       "  </thead>\n",
       "  <tbody>\n",
       "    <tr>\n",
       "      <th>0</th>\n",
       "      <td>1</td>\n",
       "      <td>A</td>\n",
       "      <td>2018-11-07 07:00:00</td>\n",
       "      <td>700</td>\n",
       "      <td>NO_EVENT</td>\n",
       "    </tr>\n",
       "    <tr>\n",
       "      <th>1</th>\n",
       "      <td>1</td>\n",
       "      <td>A</td>\n",
       "      <td>2018-11-07 07:15:00</td>\n",
       "      <td>654</td>\n",
       "      <td>NO_EVENT</td>\n",
       "    </tr>\n",
       "    <tr>\n",
       "      <th>2</th>\n",
       "      <td>1</td>\n",
       "      <td>A</td>\n",
       "      <td>2018-11-07 07:30:00</td>\n",
       "      <td>736</td>\n",
       "      <td>NO_EVENT</td>\n",
       "    </tr>\n",
       "    <tr>\n",
       "      <th>3</th>\n",
       "      <td>1</td>\n",
       "      <td>A</td>\n",
       "      <td>2018-11-07 07:45:00</td>\n",
       "      <td>699</td>\n",
       "      <td>NO_EVENT</td>\n",
       "    </tr>\n",
       "    <tr>\n",
       "      <th>4</th>\n",
       "      <td>1</td>\n",
       "      <td>A</td>\n",
       "      <td>2018-11-07 08:00:00</td>\n",
       "      <td>712</td>\n",
       "      <td>NO_EVENT</td>\n",
       "    </tr>\n",
       "  </tbody>\n",
       "</table>\n",
       "</div>"
      ],
      "text/plain": [
       "   ID_SENSOR DIRECTION            DATETIME  NUM_VEHICLES     EVENT\n",
       "0          1         A 2018-11-07 07:00:00           700  NO_EVENT\n",
       "1          1         A 2018-11-07 07:15:00           654  NO_EVENT\n",
       "2          1         A 2018-11-07 07:30:00           736  NO_EVENT\n",
       "3          1         A 2018-11-07 07:45:00           699  NO_EVENT\n",
       "4          1         A 2018-11-07 08:00:00           712  NO_EVENT"
      ]
     },
     "execution_count": 2,
     "metadata": {},
     "output_type": "execute_result"
    }
   ],
   "source": [
    "file_new = pd.read_csv('Traffic_dataset_test_set_clean_v0.1.csv', parse_dates=['DATETIME'], date_parser=lambda x: pd.to_datetime(x, format='%Y-%m-%d %H:%M'))\n",
    "file_new.head()"
   ]
  },
  {
   "cell_type": "code",
   "execution_count": 3,
   "metadata": {},
   "outputs": [
    {
     "data": {
      "text/html": [
       "<div>\n",
       "<style scoped>\n",
       "    .dataframe tbody tr th:only-of-type {\n",
       "        vertical-align: middle;\n",
       "    }\n",
       "\n",
       "    .dataframe tbody tr th {\n",
       "        vertical-align: top;\n",
       "    }\n",
       "\n",
       "    .dataframe thead th {\n",
       "        text-align: right;\n",
       "    }\n",
       "</style>\n",
       "<table border=\"1\" class=\"dataframe\">\n",
       "  <thead>\n",
       "    <tr style=\"text-align: right;\">\n",
       "      <th></th>\n",
       "      <th>ID_SENSOR</th>\n",
       "      <th>DIRECTION</th>\n",
       "      <th>DATETIME</th>\n",
       "      <th>NUM_VEHICLES</th>\n",
       "      <th>EVENT</th>\n",
       "      <th>LON</th>\n",
       "      <th>LAT</th>\n",
       "    </tr>\n",
       "  </thead>\n",
       "  <tbody>\n",
       "    <tr>\n",
       "      <th>0</th>\n",
       "      <td>1</td>\n",
       "      <td>A</td>\n",
       "      <td>2018-11-07 07:00:00</td>\n",
       "      <td>700</td>\n",
       "      <td>NO_EVENT</td>\n",
       "      <td>1</td>\n",
       "      <td>1</td>\n",
       "    </tr>\n",
       "    <tr>\n",
       "      <th>1</th>\n",
       "      <td>1</td>\n",
       "      <td>A</td>\n",
       "      <td>2018-11-07 07:15:00</td>\n",
       "      <td>654</td>\n",
       "      <td>NO_EVENT</td>\n",
       "      <td>1</td>\n",
       "      <td>1</td>\n",
       "    </tr>\n",
       "    <tr>\n",
       "      <th>2</th>\n",
       "      <td>1</td>\n",
       "      <td>A</td>\n",
       "      <td>2018-11-07 07:30:00</td>\n",
       "      <td>736</td>\n",
       "      <td>NO_EVENT</td>\n",
       "      <td>1</td>\n",
       "      <td>1</td>\n",
       "    </tr>\n",
       "    <tr>\n",
       "      <th>3</th>\n",
       "      <td>1</td>\n",
       "      <td>A</td>\n",
       "      <td>2018-11-07 07:45:00</td>\n",
       "      <td>699</td>\n",
       "      <td>NO_EVENT</td>\n",
       "      <td>1</td>\n",
       "      <td>1</td>\n",
       "    </tr>\n",
       "    <tr>\n",
       "      <th>4</th>\n",
       "      <td>1</td>\n",
       "      <td>A</td>\n",
       "      <td>2018-11-07 08:00:00</td>\n",
       "      <td>712</td>\n",
       "      <td>NO_EVENT</td>\n",
       "      <td>1</td>\n",
       "      <td>1</td>\n",
       "    </tr>\n",
       "  </tbody>\n",
       "</table>\n",
       "</div>"
      ],
      "text/plain": [
       "   ID_SENSOR DIRECTION            DATETIME  NUM_VEHICLES     EVENT  LON  LAT\n",
       "0          1         A 2018-11-07 07:00:00           700  NO_EVENT    1    1\n",
       "1          1         A 2018-11-07 07:15:00           654  NO_EVENT    1    1\n",
       "2          1         A 2018-11-07 07:30:00           736  NO_EVENT    1    1\n",
       "3          1         A 2018-11-07 07:45:00           699  NO_EVENT    1    1\n",
       "4          1         A 2018-11-07 08:00:00           712  NO_EVENT    1    1"
      ]
     },
     "execution_count": 3,
     "metadata": {},
     "output_type": "execute_result"
    }
   ],
   "source": [
    "file_new['LON'] = file_new.ID_SENSOR\n",
    "file_new['LAT']= file_new.ID_SENSOR\n",
    "file_new.head()"
   ]
  },
  {
   "cell_type": "code",
   "execution_count": 4,
   "metadata": {},
   "outputs": [
    {
     "data": {
      "text/html": [
       "<div>\n",
       "<style scoped>\n",
       "    .dataframe tbody tr th:only-of-type {\n",
       "        vertical-align: middle;\n",
       "    }\n",
       "\n",
       "    .dataframe tbody tr th {\n",
       "        vertical-align: top;\n",
       "    }\n",
       "\n",
       "    .dataframe thead th {\n",
       "        text-align: right;\n",
       "    }\n",
       "</style>\n",
       "<table border=\"1\" class=\"dataframe\">\n",
       "  <thead>\n",
       "    <tr style=\"text-align: right;\">\n",
       "      <th></th>\n",
       "      <th>ID_SENSOR</th>\n",
       "      <th>DIRECTION</th>\n",
       "      <th>DATETIME</th>\n",
       "      <th>NUM_VEHICLES</th>\n",
       "      <th>EVENT</th>\n",
       "      <th>LON</th>\n",
       "      <th>LAT</th>\n",
       "    </tr>\n",
       "  </thead>\n",
       "  <tbody>\n",
       "    <tr>\n",
       "      <th>0</th>\n",
       "      <td>1</td>\n",
       "      <td>A</td>\n",
       "      <td>2018-11-07 07:00:00</td>\n",
       "      <td>700</td>\n",
       "      <td>NO_EVENT</td>\n",
       "      <td>12.291754</td>\n",
       "      <td>41.800588</td>\n",
       "    </tr>\n",
       "    <tr>\n",
       "      <th>1</th>\n",
       "      <td>1</td>\n",
       "      <td>A</td>\n",
       "      <td>2018-11-07 07:15:00</td>\n",
       "      <td>654</td>\n",
       "      <td>NO_EVENT</td>\n",
       "      <td>12.291754</td>\n",
       "      <td>41.800588</td>\n",
       "    </tr>\n",
       "    <tr>\n",
       "      <th>2</th>\n",
       "      <td>1</td>\n",
       "      <td>A</td>\n",
       "      <td>2018-11-07 07:30:00</td>\n",
       "      <td>736</td>\n",
       "      <td>NO_EVENT</td>\n",
       "      <td>12.291754</td>\n",
       "      <td>41.800588</td>\n",
       "    </tr>\n",
       "    <tr>\n",
       "      <th>3</th>\n",
       "      <td>1</td>\n",
       "      <td>A</td>\n",
       "      <td>2018-11-07 07:45:00</td>\n",
       "      <td>699</td>\n",
       "      <td>NO_EVENT</td>\n",
       "      <td>12.291754</td>\n",
       "      <td>41.800588</td>\n",
       "    </tr>\n",
       "    <tr>\n",
       "      <th>4</th>\n",
       "      <td>1</td>\n",
       "      <td>A</td>\n",
       "      <td>2018-11-07 08:00:00</td>\n",
       "      <td>712</td>\n",
       "      <td>NO_EVENT</td>\n",
       "      <td>12.291754</td>\n",
       "      <td>41.800588</td>\n",
       "    </tr>\n",
       "  </tbody>\n",
       "</table>\n",
       "</div>"
      ],
      "text/plain": [
       "   ID_SENSOR DIRECTION            DATETIME  NUM_VEHICLES     EVENT        LON  \\\n",
       "0          1         A 2018-11-07 07:00:00           700  NO_EVENT  12.291754   \n",
       "1          1         A 2018-11-07 07:15:00           654  NO_EVENT  12.291754   \n",
       "2          1         A 2018-11-07 07:30:00           736  NO_EVENT  12.291754   \n",
       "3          1         A 2018-11-07 07:45:00           699  NO_EVENT  12.291754   \n",
       "4          1         A 2018-11-07 08:00:00           712  NO_EVENT  12.291754   \n",
       "\n",
       "         LAT  \n",
       "0  41.800588  \n",
       "1  41.800588  \n",
       "2  41.800588  \n",
       "3  41.800588  \n",
       "4  41.800588  "
      ]
     },
     "execution_count": 4,
     "metadata": {},
     "output_type": "execute_result"
    }
   ],
   "source": [
    "file_new['LON'].replace([1,3,4],[12.291754,12.352086,15.865158], inplace=True)\n",
    "file_new['LAT'].replace([1,3,4],[41.800588,41.815315,38.364355], inplace=True)\n",
    "file_new.head()"
   ]
  },
  {
   "cell_type": "code",
   "execution_count": 5,
   "metadata": {},
   "outputs": [],
   "source": [
    "d = ['e42dcd34a7f57dfa00a8c829794c6f85','d3b32860b1895971ed80c02d44ef2e20','2eb31bd8490bfdd066cf58bdf0c3b4e7',\\\n",
    "'5df2e1bba76a6825bf1bdfdbd910bf0d','8d1c96e7a868fd2afd8d21dacd463908','fa7e7183c19ee49901b10c3b48f370ed','5e6f428f0e2837dfbfcb105e5b51d2f9',\\\n",
    "'6fb6ab74aa79c231c3d32982c6da0786','039bdc1da4271f09e0c6a8dfa573665a','fd039c5a7bb0962d5607f6aacb53899a','1944bc225e00cbf430807661654be075',\\\n",
    "'5084a731025b16d0075ec7b920001f71','268674adbdf0230de4a4249257c3c2ae','2f153b5d4543ce614da3a29095ed8489','e0d7e361179da4953282e27bf73f3313','177adaa1b3252149620350f697456780','22d5b81acbfe191f0669c52de39b4135','5bbd8146fa81426866a9f0538159e026','64cc25ad9a957c0c3bcb869491a3d8f6', '1e162afdc0ca75e44177d38e7663a5b7','d9c1c08bb45bef17f8337a312bf9faf2', '2f13ef18955a16e9facb771f7e2d6e4d','1ef0dc15ba3095737188d4d1390afd8b','8fcbdd90d2703e2e4b270a1e0dc8ee1f', '0ee33782e549c1b338635079fea0b22d']"
   ]
  },
  {
   "cell_type": "code",
   "execution_count": 7,
   "metadata": {},
   "outputs": [],
   "source": [
    "weather = []"
   ]
  },
  {
   "cell_type": "code",
   "execution_count": 89,
   "metadata": {},
   "outputs": [],
   "source": [
    "for i in range (10000,file_new.shape[0]):\n",
    "    a = requests.get('https://api.darksky.net/forecast/' + d[10] + '/' + str(file_new['LAT'][i]) + ',' + str(file_new['LON'][i]) + ',' + str(file_new['DATETIME'][i].timestamp())[:10] + '?units=si&exclude=daily,flags,offset,hourly')\n",
    "    weather.append(a)\n"
   ]
  },
  {
   "cell_type": "code",
   "execution_count": 90,
   "metadata": {},
   "outputs": [
    {
     "data": {
      "text/plain": [
       "10469"
      ]
     },
     "execution_count": 90,
     "metadata": {},
     "output_type": "execute_result"
    }
   ],
   "source": [
    "len(weather)"
   ]
  },
  {
   "cell_type": "code",
   "execution_count": 91,
   "metadata": {},
   "outputs": [
    {
     "data": {
      "text/plain": [
       "[<Response [200]>,\n",
       " <Response [200]>,\n",
       " <Response [200]>,\n",
       " <Response [200]>,\n",
       " <Response [200]>,\n",
       " <Response [200]>,\n",
       " <Response [200]>,\n",
       " <Response [200]>,\n",
       " <Response [200]>,\n",
       " <Response [200]>]"
      ]
     },
     "execution_count": 91,
     "metadata": {},
     "output_type": "execute_result"
    }
   ],
   "source": [
    "weather[-10:]"
   ]
  },
  {
   "cell_type": "code",
   "execution_count": 92,
   "metadata": {},
   "outputs": [],
   "source": [
    "temp=[]\n",
    "hum=[]\n",
    "wind=[]\n",
    "pressure=[]"
   ]
  },
  {
   "cell_type": "code",
   "execution_count": 93,
   "metadata": {},
   "outputs": [
    {
     "data": {
      "text/html": [
       "<div>\n",
       "<style scoped>\n",
       "    .dataframe tbody tr th:only-of-type {\n",
       "        vertical-align: middle;\n",
       "    }\n",
       "\n",
       "    .dataframe tbody tr th {\n",
       "        vertical-align: top;\n",
       "    }\n",
       "\n",
       "    .dataframe thead th {\n",
       "        text-align: right;\n",
       "    }\n",
       "</style>\n",
       "<table border=\"1\" class=\"dataframe\">\n",
       "  <thead>\n",
       "    <tr style=\"text-align: right;\">\n",
       "      <th></th>\n",
       "      <th>Temp</th>\n",
       "      <th>Humidity</th>\n",
       "      <th>Wind</th>\n",
       "      <th>Pressure</th>\n",
       "    </tr>\n",
       "  </thead>\n",
       "  <tbody>\n",
       "    <tr>\n",
       "      <th>0</th>\n",
       "      <td>15.42</td>\n",
       "      <td>0.82</td>\n",
       "      <td>0.68</td>\n",
       "      <td>1016.35</td>\n",
       "    </tr>\n",
       "    <tr>\n",
       "      <th>1</th>\n",
       "      <td>15.71</td>\n",
       "      <td>0.82</td>\n",
       "      <td>0.66</td>\n",
       "      <td>1016.39</td>\n",
       "    </tr>\n",
       "    <tr>\n",
       "      <th>2</th>\n",
       "      <td>16.01</td>\n",
       "      <td>0.82</td>\n",
       "      <td>0.65</td>\n",
       "      <td>1016.43</td>\n",
       "    </tr>\n",
       "    <tr>\n",
       "      <th>3</th>\n",
       "      <td>16.30</td>\n",
       "      <td>0.82</td>\n",
       "      <td>0.65</td>\n",
       "      <td>1016.47</td>\n",
       "    </tr>\n",
       "    <tr>\n",
       "      <th>4</th>\n",
       "      <td>16.59</td>\n",
       "      <td>0.82</td>\n",
       "      <td>0.68</td>\n",
       "      <td>1016.51</td>\n",
       "    </tr>\n",
       "  </tbody>\n",
       "</table>\n",
       "</div>"
      ],
      "text/plain": [
       "    Temp  Humidity  Wind  Pressure\n",
       "0  15.42      0.82  0.68   1016.35\n",
       "1  15.71      0.82  0.66   1016.39\n",
       "2  16.01      0.82  0.65   1016.43\n",
       "3  16.30      0.82  0.65   1016.47\n",
       "4  16.59      0.82  0.68   1016.51"
      ]
     },
     "execution_count": 93,
     "metadata": {},
     "output_type": "execute_result"
    }
   ],
   "source": [
    "for x in range (0, len(weather)):\n",
    "    temp.append(weather[x].json()['currently']['temperature'])\n",
    "    #vis.append(weather[x].json()['currently']['visibility'])\n",
    "    hum.append(weather[x].json()['currently']['humidity'])\n",
    "    wind.append(weather[x].json()['currently']['windSpeed'])\n",
    "    #prec.append(weather[x].json()['currently']['precipType'])\n",
    "    pressure.append(weather[x].json()['currently']['pressure'])\n",
    "df = pd.DataFrame({'Temp' : temp, 'Humidity' : hum, 'Wind' : wind, 'Pressure' : pressure})\n",
    "df.head()"
   ]
  },
  {
   "cell_type": "code",
   "execution_count": 94,
   "metadata": {},
   "outputs": [
    {
     "data": {
      "text/plain": [
       "(10469, 4)"
      ]
     },
     "execution_count": 94,
     "metadata": {},
     "output_type": "execute_result"
    }
   ],
   "source": [
    "df.shape"
   ]
  },
  {
   "cell_type": "code",
   "execution_count": 95,
   "metadata": {},
   "outputs": [],
   "source": [
    "df.to_csv('test_T.csv')"
   ]
  },
  {
   "cell_type": "code",
   "execution_count": null,
   "metadata": {},
   "outputs": [],
   "source": []
  }
 ],
 "metadata": {
  "kernelspec": {
   "display_name": "Python 3",
   "language": "python",
   "name": "python3"
  },
  "language_info": {
   "codemirror_mode": {
    "name": "ipython",
    "version": 3
   },
   "file_extension": ".py",
   "mimetype": "text/x-python",
   "name": "python",
   "nbconvert_exporter": "python",
   "pygments_lexer": "ipython3",
   "version": "3.7.1"
  }
 },
 "nbformat": 4,
 "nbformat_minor": 2
}
